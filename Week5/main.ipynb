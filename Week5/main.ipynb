{
  "cells": [
    {
      "cell_type": "markdown",
      "metadata": {
        "colab_type": "text",
        "id": "view-in-github"
      },
      "source": [
        "<a href=\"https://colab.research.google.com/github/Hamada-Gado/IEEE-GUC-Deep-Learning-Tasks/blob/main/IEEE_Session_2_Task.ipynb\" target=\"_parent\"><img src=\"https://colab.research.google.com/assets/colab-badge.svg\" alt=\"Open In Colab\"/></a>"
      ]
    },
    {
      "cell_type": "markdown",
      "metadata": {
        "id": "QJAEpc9Dl1LM"
      },
      "source": [
        "In this notebook, we're going to use Pytorch to train a logistic regression model. \n",
        "\n",
        "This notebook won't be exploring the real power of deep neural networks we won't have any hidden layers so it's not \"deep\" and it can't represent nonlinear relationships in the data.\n",
        "\n",
        "The code, however, is very much similar to what deep neural network code looks like, that is, most of the code you use here you will be useful when writing code for a deep neural network. \n",
        "\n",
        "This notebook just helps get you familiar with the main steps of defining and training a neural network in Pytorch.\n",
        "\n",
        "We will compare it with the last week's model which was implemented using classical machine learning libraries (scikit-learn)."
      ]
    },
    {
      "cell_type": "markdown",
      "metadata": {
        "id": "wjcVBKkeM1gg"
      },
      "source": [
        "We'll start by importing PyTorch and its related packages "
      ]
    },
    {
      "cell_type": "code",
      "execution_count": 1,
      "metadata": {
        "colab": {
          "base_uri": "https://localhost:8080/",
          "height": 35
        },
        "id": "tjwdORfGlgzH",
        "outputId": "2438aafc-02ce-41c7-d4e5-25f273f4d01b"
      },
      "outputs": [
        {
          "data": {
            "text/plain": [
              "'cuda'"
            ]
          },
          "execution_count": 1,
          "metadata": {},
          "output_type": "execute_result"
        }
      ],
      "source": [
        "import math\n",
        "\n",
        "import torch\n",
        "import torch.nn as nn \n",
        "import torch.optim as optim\n",
        "from torch.utils.data import Dataset, DataLoader\n",
        "\n",
        "import pandas as pd\n",
        "import matplotlib.pyplot as plt\n",
        "\n",
        "from sklearn.impute import SimpleImputer\n",
        "from sklearn.compose import ColumnTransformer\n",
        "from sklearn.model_selection import train_test_split\n",
        "from sklearn.pipeline import make_pipeline, Pipeline\n",
        "from sklearn.preprocessing import OneHotEncoder, MinMaxScaler\n",
        "from sklearn.metrics import log_loss, accuracy_score, classification_report\n",
        "\n",
        "# set default device based on CUDA's availability\n",
        "device = 'cuda' if torch.cuda.is_available() else 'cpu'\n",
        "device"
      ]
    },
    {
      "cell_type": "markdown",
      "metadata": {},
      "source": [
        "# A very quick intro to PyTorch"
      ]
    },
    {
      "cell_type": "markdown",
      "metadata": {},
      "source": [
        "**what are tensors?**\n",
        "* tensors are multi-dimensional arrays with support for autograd operations\n",
        "* autograd is a mechanism for computing gradients of tensor operations\n",
        "* tensors are similar to numpy's ndarrays, but with additional features\n",
        "* tensors can be moved to GPU for faster computation\n",
        "* tensors can be used to represent data and parameters in a model"
      ]
    },
    {
      "cell_type": "code",
      "execution_count": 2,
      "metadata": {},
      "outputs": [
        {
          "name": "stdout",
          "output_type": "stream",
          "text": [
            "tensor x: 22.0, x.grad: None\n",
            "tensor y: 484.0, y.grad_fn: <PowBackward0 object at 0x74bcc7d6dfc0>\n",
            "dy_dx: 44.0, x.grad: 44.0\n"
          ]
        }
      ],
      "source": [
        "x = torch.tensor(22.0, requires_grad=True, dtype=torch.float32, device=device)\n",
        "print(f\"tensor x: {x}, x.grad: {x.grad}\")\n",
        "y = x ** 2\n",
        "print(f\"tensor y: {y}, y.grad_fn: {y.grad_fn}\")\n",
        "dy_dx = 2 * x\n",
        "y.backward() # equivalent to torch.autograd.grad(y, x), but with the gradient stored in x.grad, instead of being returned\n",
        "print(f\"dy_dx: {dy_dx}, x.grad: {x.grad}\")"
      ]
    },
    {
      "cell_type": "code",
      "execution_count": 3,
      "metadata": {},
      "outputs": [
        {
          "data": {
            "text/plain": [
              "array(22., dtype=float32)"
            ]
          },
          "execution_count": 3,
          "metadata": {},
          "output_type": "execute_result"
        }
      ],
      "source": [
        "# x.numpy() This will raise an error if x is not on the CPU\n",
        "# either\n",
        "x = x.to('cpu')\n",
        "# or\n",
        "x = x.cpu()\n",
        "\n",
        "# if tensor requires grad, then we will need to detach it from the computation graph, otherwise, it will raise an error\n",
        "x.detach().numpy()"
      ]
    },
    {
      "cell_type": "code",
      "execution_count": 4,
      "metadata": {},
      "outputs": [
        {
          "name": "stdout",
          "output_type": "stream",
          "text": [
            "y: 484.0, y.grad_fn: None\n"
          ]
        }
      ],
      "source": [
        "# Some operations are not differentiable, and we can use torch.no_grad() to avoid tracking gradients\n",
        "with torch.no_grad():\n",
        "    y = x ** 2\n",
        "    # y.backward()  this will raise an error\n",
        "    print(f\"y: {y}, y.grad_fn: {y.grad_fn}\")"
      ]
    },
    {
      "cell_type": "code",
      "execution_count": 5,
      "metadata": {},
      "outputs": [
        {
          "name": "stdout",
          "output_type": "stream",
          "text": [
            "x: tensor([[-1.7807, -1.1101,  1.5913],\n",
            "        [ 0.9705,  1.0729,  0.1550]]), x.shape: torch.Size([2, 3]), x.size(): torch.Size([2, 3])\n",
            "x.mean(): 0.15, x.std(): 1.34, x.sum(): 0.90\n",
            "x.view(1, -1): tensor([[-1.7807, -1.1101,  1.5913,  0.9705,  1.0729,  0.1550]])\n"
          ]
        }
      ],
      "source": [
        "# some features of the tensor which are similar to numpy\n",
        "x = torch.randn(2, 3)\n",
        "print(f\"x: {x}, x.shape: {x.shape}, x.size(): {x.size()}\")\n",
        "print(f\"x.mean(): {x.mean():.2f}, x.std(): {x.std():.2f}, x.sum(): {x.sum():.2f}\")\n",
        "print(f\"x.view(1, -1): {x.view(1, -1)}\")"
      ]
    },
    {
      "cell_type": "markdown",
      "metadata": {
        "id": "ypdgiwpNvk8V"
      },
      "source": [
        "We will now load the data, but skip looking at it and the preprocessing in depth as we did in the pervious week."
      ]
    },
    {
      "cell_type": "code",
      "execution_count": 6,
      "metadata": {},
      "outputs": [],
      "source": [
        "cat_columns: list[str] = [\"Gender\", \"Embarked\"]\n",
        "num_columns: list[str] = [\"Pclass\", \"Age\", \"SibSp\", \"Parch\"]\n",
        "\n",
        "# Create a pipeline for the categorical columns using OneHotEncoder\n",
        "cat_pipeline: Pipeline = make_pipeline(\n",
        "    SimpleImputer(strategy=\"most_frequent\"),\n",
        "    OneHotEncoder(handle_unknown=\"ignore\"))\n",
        "\n",
        "\n",
        "# Create a pipeline for the numerical columns using MinMaxScaler\n",
        "num_pipeline: Pipeline = make_pipeline(\n",
        "    SimpleImputer(strategy=\"median\"),\n",
        "    MinMaxScaler())\n",
        "\n",
        "preprocessing = ColumnTransformer([\n",
        "    (\"num\", num_pipeline, num_columns),\n",
        "    (\"cat\", cat_pipeline, cat_columns),\n",
        "])"
      ]
    },
    {
      "cell_type": "code",
      "execution_count": 7,
      "metadata": {},
      "outputs": [],
      "source": [
        "train_data = pd.read_csv(\"./train.csv\")\n",
        "train_data = train_data.drop([\"PassengerId\", \"Name\", \"Ticket\", \"Cabin\"], axis= 1)\n",
        "X = train_data.drop('Survived', axis= 1)\n",
        "\n",
        "X_train, X_test, y_train, y_test = train_test_split(X, train_data['Survived'], test_size=0.2, random_state=42)\n",
        "\n",
        "X_train = preprocessing.fit_transform(X_train)\n",
        "X_test = preprocessing.transform(X_test)"
      ]
    },
    {
      "cell_type": "markdown",
      "metadata": {},
      "source": [
        "now we will transform the data into a tensor, and then we will split it into training and testing sets."
      ]
    },
    {
      "cell_type": "code",
      "execution_count": 8,
      "metadata": {},
      "outputs": [],
      "source": [
        "X_train = torch.tensor(X_train, dtype=torch.float32).to(device)\n",
        "y_train = torch.tensor(y_train.values, dtype=torch.float32).to(device)"
      ]
    },
    {
      "cell_type": "markdown",
      "metadata": {
        "id": "b7CK9iPFlv60"
      },
      "source": [
        "Next we'll define a very simple class to load the data, it loads the data, then defines the `__len__` method to get its size and the `__getitem__` method to get a single example and its ground truth"
      ]
    },
    {
      "cell_type": "code",
      "execution_count": 9,
      "metadata": {
        "id": "wmgfmh8uL00K"
      },
      "outputs": [],
      "source": [
        "class LogisticDataset(Dataset):\n",
        "    def __init__(self, X, y):\n",
        "        assert X.size()[0] == y.size()[0]\n",
        "        self.X = X\n",
        "        self.y = y\n",
        "    \n",
        "    def __len__(self):\n",
        "        return self.X.size()[0]\n",
        "    \n",
        "    def __getitem__(self, idx):\n",
        "        return [self.X[idx], self.y[idx]]\n"
      ]
    },
    {
      "cell_type": "markdown",
      "metadata": {
        "id": "57zJc2_QyfK_"
      },
      "source": [
        "We'll use PyTorch's `DataLoader` class to generate the dataloader for our training data. We give it as input an instance of our dataset and specify the `batch_size` and set `shuffle=True` so that it provides batches in random order. "
      ]
    },
    {
      "cell_type": "code",
      "execution_count": 10,
      "metadata": {
        "id": "YDy_UQnNL3EV"
      },
      "outputs": [],
      "source": [
        "batch_size = 4\n",
        "train_dataloader = DataLoader(LogisticDataset(X_train, y_train), batch_size=batch_size, shuffle=True)\n"
      ]
    },
    {
      "cell_type": "markdown",
      "metadata": {
        "id": "-0nQ2OSHy5c1"
      },
      "source": [
        "We can now loop through the dataloader to get batches of data at each iteration. "
      ]
    },
    {
      "cell_type": "code",
      "execution_count": 11,
      "metadata": {
        "colab": {
          "base_uri": "https://localhost:8080/"
        },
        "id": "P8O6YtB0L4fM",
        "outputId": "0cc40d47-4468-47a0-8c88-626202bdfb5d"
      },
      "outputs": [
        {
          "name": "stdout",
          "output_type": "stream",
          "text": [
            "tensor([[1.0000, 0.4471, 0.1250, 0.0000, 1.0000, 0.0000, 0.0000, 0.0000, 1.0000],\n",
            "        [1.0000, 0.2209, 0.0000, 0.0000, 0.0000, 1.0000, 0.0000, 0.0000, 1.0000],\n",
            "        [1.0000, 0.3466, 0.0000, 0.0000, 0.0000, 1.0000, 0.0000, 0.0000, 1.0000],\n",
            "        [0.5000, 0.4220, 0.0000, 0.0000, 0.0000, 1.0000, 0.0000, 0.0000, 1.0000]],\n",
            "       device='cuda:0')\n",
            "tensor([1., 0., 0., 0.], device='cuda:0')\n"
          ]
        }
      ],
      "source": [
        "for i, (data, label) in enumerate(train_dataloader):\n",
        "    print(data)\n",
        "    print(label)\n",
        "    break\n"
      ]
    },
    {
      "cell_type": "markdown",
      "metadata": {
        "id": "KjXUd5SbzHIF"
      },
      "source": [
        "Do note that each time we loop through the data, it will have different order. That's because we've set shuffle=True. This helps the model become more robust as it gets batches in a different order in each epoch (pass through the training data so it reduces overfitting."
      ]
    },
    {
      "cell_type": "code",
      "execution_count": 12,
      "metadata": {
        "colab": {
          "base_uri": "https://localhost:8080/"
        },
        "id": "D-gohynkL6Cc",
        "outputId": "04dde82d-19be-40f9-f9ad-efbcd5cee90d"
      },
      "outputs": [
        {
          "name": "stdout",
          "output_type": "stream",
          "text": [
            "tensor([[0.5000, 0.6482, 0.0000, 0.0000, 0.0000, 1.0000, 0.0000, 0.0000, 1.0000],\n",
            "        [1.0000, 0.0324, 0.3750, 0.1667, 1.0000, 0.0000, 0.0000, 0.0000, 1.0000],\n",
            "        [0.5000, 0.4974, 0.0000, 0.0000, 1.0000, 0.0000, 0.0000, 0.0000, 1.0000],\n",
            "        [1.0000, 0.2963, 0.0000, 0.0000, 0.0000, 1.0000, 0.0000, 0.0000, 1.0000]],\n",
            "       device='cuda:0')\n",
            "tensor([0., 0., 1., 0.], device='cuda:0')\n"
          ]
        }
      ],
      "source": [
        "for i, (data, label) in enumerate(train_dataloader):\n",
        "    print(data)\n",
        "    print(label)\n",
        "    break\n"
      ]
    },
    {
      "cell_type": "markdown",
      "metadata": {
        "id": "ICuWFKaPzng9"
      },
      "source": [
        "If we count how many iterations we go through in train_dataloader we find that it does 178 iterations. That's because we have a total of 712 examples and a `batch_size` of 4. Changing the batch size should affect the number of iterations, which are generally `number of examples / batch_size`"
      ]
    },
    {
      "cell_type": "code",
      "execution_count": 13,
      "metadata": {
        "colab": {
          "base_uri": "https://localhost:8080/"
        },
        "id": "FoC3d55vL75M",
        "outputId": "828be434-4d85-40ce-b6ae-ed32762c7cc0"
      },
      "outputs": [
        {
          "name": "stdout",
          "output_type": "stream",
          "text": [
            "178\n"
          ]
        }
      ],
      "source": [
        "counter = 0\n",
        "for i, (data, label) in enumerate(train_dataloader):\n",
        "    pass\n",
        "print(i + 1)\n"
      ]
    },
    {
      "cell_type": "markdown",
      "metadata": {
        "id": "ITiZ2_EI0BfV"
      },
      "source": [
        "**Defining the Logistic Regression model using Pytorch**"
      ]
    },
    {
      "cell_type": "code",
      "execution_count": 14,
      "metadata": {},
      "outputs": [
        {
          "data": {
            "text/plain": [
              "torch.Size([712, 9])"
            ]
          },
          "execution_count": 14,
          "metadata": {},
          "output_type": "execute_result"
        }
      ],
      "source": [
        "X_train.shape"
      ]
    },
    {
      "cell_type": "code",
      "execution_count": 35,
      "metadata": {
        "colab": {
          "base_uri": "https://localhost:8080/"
        },
        "id": "eghnXrEKL9Oc",
        "outputId": "4e49f1e4-71fa-4e0f-9618-78db00dc43a6"
      },
      "outputs": [
        {
          "data": {
            "text/plain": [
              "LogisticRegression(\n",
              "  (fc1): Linear(in_features=9, out_features=256, bias=True)\n",
              "  (fc2): Linear(in_features=256, out_features=128, bias=True)\n",
              "  (fc3): Linear(in_features=128, out_features=1, bias=True)\n",
              ")"
            ]
          },
          "execution_count": 35,
          "metadata": {},
          "output_type": "execute_result"
        }
      ],
      "source": [
        "class LogisticRegression(nn.Module):\n",
        "    def __init__(self, num_inputs=9, num_outputs=1, **kwargs):\n",
        "        super(LogisticRegression, self).__init__(**kwargs)\n",
        "        # The layer should have an input of shape 9 and an output of shape 1\n",
        "\n",
        "        # If we use only this layer, the model will be exactly like a logistic regression\n",
        "        # self.fc1 = nn.Linear(num_inputs, num_outputs, bias=True)\n",
        "\n",
        "        # This will be the code of a more complex model\n",
        "        self.fc1 = nn.Linear(num_inputs, 256, bias=True)\n",
        "        self.fc2 = nn.Linear(256, 128, bias=True)\n",
        "        self.fc3 = nn.Linear(128, num_outputs, bias=True)\n",
        "        ###############################################\n",
        "\n",
        "    def forward(self, x):\n",
        "        x = self.fc1(x)\n",
        "\n",
        "        # This will be the code of a more complex model\n",
        "        x = torch.relu(x)\n",
        "        x = self.fc2(x)\n",
        "        x = torch.relu(x)\n",
        "        x = self.fc3(x)\n",
        "        ###############################################\n",
        "\n",
        "        x = torch.sigmoid(x)\n",
        "        x = x.squeeze(1) # remove the last dimension: [batch_size, 1] -> [batch_size], [[0.4]] --> [0.4]\n",
        "        return x\n",
        "\n",
        "\n",
        "net = LogisticRegression()\n",
        "net.to(device)"
      ]
    },
    {
      "cell_type": "markdown",
      "metadata": {
        "id": "04eG0Fel1CBn"
      },
      "source": [
        "**Use Binary Categorical Cross-Entropy loss**"
      ]
    },
    {
      "cell_type": "code",
      "execution_count": 36,
      "metadata": {
        "id": "SQuFy87QL-gs"
      },
      "outputs": [],
      "source": [
        "loss_fn = nn.BCELoss(reduction='mean')"
      ]
    },
    {
      "cell_type": "markdown",
      "metadata": {
        "id": "thAjLAkH1HU0"
      },
      "source": [
        "**Use Stochastic Gradient Descent for optimizing the model**"
      ]
    },
    {
      "cell_type": "code",
      "execution_count": 37,
      "metadata": {
        "id": "3S-pwRXSL_vk"
      },
      "outputs": [],
      "source": [
        "optimizer = optim.Adam(net.parameters(), lr= 1e-3)"
      ]
    },
    {
      "cell_type": "markdown",
      "metadata": {
        "id": "jUePzAzU1Vo2"
      },
      "source": [
        "**Complete the training loop and train the model**"
      ]
    },
    {
      "cell_type": "code",
      "execution_count": 38,
      "metadata": {
        "colab": {
          "base_uri": "https://localhost:8080/"
        },
        "id": "tGjrvueiMArs",
        "outputId": "fdf0eb54-c29c-4617-c86a-13b707efe308"
      },
      "outputs": [
        {
          "name": "stdout",
          "output_type": "stream",
          "text": [
            "Epoch 0, loss: 0.13017127681732849\n",
            "Epoch 1, loss: 0.11486714435845949\n",
            "Epoch 2, loss: 0.11197503570341662\n",
            "Epoch 3, loss: 0.110393357672467\n",
            "Epoch 4, loss: 0.1088966964482424\n",
            "Epoch 5, loss: 0.10975265530136864\n",
            "Epoch 6, loss: 0.10862990454613661\n",
            "Epoch 7, loss: 0.10952905827107724\n",
            "Epoch 8, loss: 0.1063844664388577\n",
            "Epoch 9, loss: 0.10635417237291846\n",
            "Epoch 10, loss: 0.10551824672880132\n",
            "Epoch 11, loss: 0.10516209633539567\n",
            "Epoch 12, loss: 0.10581274521066232\n",
            "Epoch 13, loss: 0.10372491801429666\n",
            "Epoch 14, loss: 0.10474698305695077\n",
            "Epoch 15, loss: 0.10165870251929325\n",
            "Epoch 16, loss: 0.10208180813338566\n",
            "Epoch 17, loss: 0.10316091828738873\n",
            "Epoch 18, loss: 0.10149165233492516\n",
            "Epoch 19, loss: 0.10258416252817666\n",
            "Epoch 20, loss: 0.10128981711635932\n",
            "Epoch 21, loss: 0.10075569244394644\n",
            "Epoch 22, loss: 0.10015969256232127\n",
            "Epoch 23, loss: 0.09976011243115147\n",
            "Epoch 24, loss: 0.09685606764775984\n",
            "Epoch 25, loss: 0.09945889660209585\n",
            "Epoch 26, loss: 0.0987001725268456\n",
            "Epoch 27, loss: 0.09963262872770429\n",
            "Epoch 28, loss: 0.09886026089445929\n",
            "Epoch 29, loss: 0.09775723998298806\n",
            "Epoch 30, loss: 0.09735300777521863\n",
            "Epoch 31, loss: 0.09791414291085151\n",
            "Epoch 32, loss: 0.0969553046095907\n",
            "Epoch 33, loss: 0.09615351697116085\n",
            "Epoch 34, loss: 0.09660082749938698\n",
            "Epoch 35, loss: 0.09570059686731756\n",
            "Epoch 36, loss: 0.09717640526111374\n",
            "Epoch 37, loss: 0.09517687932180052\n",
            "Epoch 38, loss: 0.0959388693438822\n",
            "Epoch 39, loss: 0.09455100599718227\n",
            "Epoch 40, loss: 0.09470792189554385\n",
            "Epoch 41, loss: 0.09484876930881082\n",
            "Epoch 42, loss: 0.09424741249112936\n",
            "Epoch 43, loss: 0.09426428751727\n",
            "Epoch 44, loss: 0.0942532459608792\n",
            "Epoch 45, loss: 0.09431433249945136\n",
            "Epoch 46, loss: 0.09419192025814666\n",
            "Epoch 47, loss: 0.09298447472974658\n",
            "Epoch 48, loss: 0.09283669104569414\n",
            "Epoch 49, loss: 0.09283398231753054\n",
            "Epoch 50, loss: 0.09391071375857075\n",
            "Epoch 51, loss: 0.09248756522605761\n",
            "Epoch 52, loss: 0.09219138305424975\n",
            "Epoch 53, loss: 0.092120772230261\n",
            "Epoch 54, loss: 0.09232241806856702\n",
            "Epoch 55, loss: 0.09137744994917779\n",
            "Epoch 56, loss: 0.09188688443869017\n",
            "Epoch 57, loss: 0.09099324470715535\n",
            "Epoch 58, loss: 0.09177396464517361\n",
            "Epoch 59, loss: 0.0914275384288323\n",
            "Epoch 60, loss: 0.09024082932600312\n",
            "Epoch 61, loss: 0.09046946556485269\n",
            "Epoch 62, loss: 0.0907935373893196\n",
            "Epoch 63, loss: 0.09115937368923359\n",
            "Epoch 64, loss: 0.08990110193504795\n",
            "Epoch 65, loss: 0.08899746798475933\n",
            "Epoch 66, loss: 0.08951575214467064\n",
            "Epoch 67, loss: 0.0903615345184304\n",
            "Epoch 68, loss: 0.08910244276611072\n",
            "Epoch 69, loss: 0.08925717051685107\n",
            "Epoch 70, loss: 0.0891055219958463\n",
            "Epoch 71, loss: 0.08796255316145801\n",
            "Epoch 72, loss: 0.08918487016776096\n",
            "Epoch 73, loss: 0.08899200313954791\n",
            "Epoch 74, loss: 0.08827570408289687\n",
            "Epoch 75, loss: 0.0878920727147815\n",
            "Epoch 76, loss: 0.08902930617437102\n",
            "Epoch 77, loss: 0.08815803645660034\n",
            "Epoch 78, loss: 0.08812620265283778\n",
            "Epoch 79, loss: 0.08730963529532336\n",
            "Epoch 80, loss: 0.08746455714964632\n",
            "Epoch 81, loss: 0.08804582744533343\n",
            "Epoch 82, loss: 0.08760198061040529\n",
            "Epoch 83, loss: 0.08744306090089042\n",
            "Epoch 84, loss: 0.08703440869504356\n",
            "Epoch 85, loss: 0.08651694143844998\n",
            "Epoch 86, loss: 0.08650494196316165\n",
            "Epoch 87, loss: 0.08641867289905635\n",
            "Epoch 88, loss: 0.0866702756775135\n",
            "Epoch 89, loss: 0.0867937609129533\n",
            "Epoch 90, loss: 0.08653554682400119\n",
            "Epoch 91, loss: 0.08661577632137982\n",
            "Epoch 92, loss: 0.08454135264233383\n",
            "Epoch 93, loss: 0.086438625907065\n",
            "Epoch 94, loss: 0.0856972010564216\n",
            "Epoch 95, loss: 0.08542282032267598\n",
            "Epoch 96, loss: 0.08471875006183877\n",
            "Epoch 97, loss: 0.08632523903304062\n",
            "Epoch 98, loss: 0.08542296333824483\n",
            "Epoch 99, loss: 0.08538764176283324\n",
            "Epoch 100, loss: 0.08477181469461766\n",
            "Epoch 101, loss: 0.08453903557847808\n",
            "Epoch 102, loss: 0.08478476962053709\n",
            "Epoch 103, loss: 0.08487557836290281\n",
            "Epoch 104, loss: 0.08436325265963175\n",
            "Epoch 105, loss: 0.08405232618450385\n",
            "Epoch 106, loss: 0.08348151624408418\n",
            "Epoch 107, loss: 0.08469596564975107\n",
            "Epoch 108, loss: 0.0850349663906558\n",
            "Epoch 109, loss: 0.08338806912969415\n",
            "Epoch 110, loss: 0.083895556170891\n",
            "Epoch 111, loss: 0.08373612097956323\n",
            "Epoch 112, loss: 0.0833160724488265\n",
            "Epoch 113, loss: 0.08297749003264634\n",
            "Epoch 114, loss: 0.08359626656021463\n",
            "Epoch 115, loss: 0.08295959907615286\n",
            "Epoch 116, loss: 0.08307448434486484\n",
            "Epoch 117, loss: 0.08314885204629135\n",
            "Epoch 118, loss: 0.0828334021805838\n",
            "Epoch 119, loss: 0.08196139047602506\n",
            "Epoch 120, loss: 0.08212040031081375\n",
            "Epoch 121, loss: 0.08135878360328942\n",
            "Epoch 122, loss: 0.08275943316917884\n",
            "Epoch 123, loss: 0.08231169475815416\n",
            "Epoch 124, loss: 0.08124386945957177\n",
            "Epoch 125, loss: 0.08189307898217603\n",
            "Epoch 126, loss: 0.08289095554013574\n",
            "Epoch 127, loss: 0.08383917912652486\n",
            "Epoch 128, loss: 0.08130191339394392\n",
            "Epoch 129, loss: 0.08267931920198954\n",
            "Epoch 130, loss: 0.08137606338629227\n",
            "Epoch 131, loss: 0.08075064021386935\n",
            "Epoch 132, loss: 0.0804772745265908\n",
            "Epoch 133, loss: 0.0809444444125853\n",
            "Epoch 134, loss: 0.0825184567666644\n",
            "Epoch 135, loss: 0.08172411769984965\n",
            "Epoch 136, loss: 0.08131177864152561\n",
            "Epoch 137, loss: 0.08186432095558456\n",
            "Epoch 138, loss: 0.08105896460219401\n",
            "Epoch 139, loss: 0.08080771873480107\n",
            "Epoch 140, loss: 0.08003363906493505\n",
            "Epoch 141, loss: 0.08023216905728967\n",
            "Epoch 142, loss: 0.08121526788519905\n",
            "Epoch 143, loss: 0.08020731367254524\n",
            "Epoch 144, loss: 0.07995876164537814\n",
            "Epoch 145, loss: 0.08024586239578517\n",
            "Epoch 146, loss: 0.07941621263626586\n",
            "Epoch 147, loss: 0.07964128387694279\n",
            "Epoch 148, loss: 0.07844851047501722\n",
            "Epoch 149, loss: 0.07829619374837768\n",
            "Epoch 150, loss: 0.07949914485987883\n",
            "Epoch 151, loss: 0.0806513245320837\n",
            "Epoch 152, loss: 0.08002800375969231\n",
            "Epoch 153, loss: 0.07954720822372212\n",
            "Epoch 154, loss: 0.07952723821646042\n",
            "Epoch 155, loss: 0.07941575172577012\n",
            "Epoch 156, loss: 0.07894699376343299\n",
            "Epoch 157, loss: 0.07913556637708752\n",
            "Epoch 158, loss: 0.0795663218178686\n",
            "Epoch 159, loss: 0.07778948708437383\n",
            "Epoch 160, loss: 0.07999328178683233\n",
            "Epoch 161, loss: 0.08008765374451583\n",
            "Epoch 162, loss: 0.07894200846622583\n",
            "Epoch 163, loss: 0.07819005299870185\n",
            "Epoch 164, loss: 0.07802353707142828\n",
            "Epoch 165, loss: 0.07838742222634976\n",
            "Epoch 166, loss: 0.07725738709162348\n",
            "Epoch 167, loss: 0.07855475820297522\n",
            "Epoch 168, loss: 0.07719434924905053\n",
            "Epoch 169, loss: 0.07660606349491297\n",
            "Epoch 170, loss: 0.07802061392700697\n",
            "Epoch 171, loss: 0.078597584286256\n",
            "Epoch 172, loss: 0.07716193982932044\n",
            "Epoch 173, loss: 0.07694831967214515\n",
            "Epoch 174, loss: 0.0795705417430112\n",
            "Epoch 175, loss: 0.07910278959728233\n",
            "Epoch 176, loss: 0.07724013638988744\n",
            "Epoch 177, loss: 0.07689364289910189\n",
            "Epoch 178, loss: 0.0760334252005082\n",
            "Epoch 179, loss: 0.07691293967668009\n",
            "Epoch 180, loss: 0.07596550880358398\n",
            "Epoch 181, loss: 0.07645663680825768\n",
            "Epoch 182, loss: 0.07748701327735934\n",
            "Epoch 183, loss: 0.07704287544726121\n",
            "Epoch 184, loss: 0.07594428095820077\n",
            "Epoch 185, loss: 0.07553653162119262\n",
            "Epoch 186, loss: 0.07632878461589918\n",
            "Epoch 187, loss: 0.07692749532011885\n",
            "Epoch 188, loss: 0.07672102902911268\n",
            "Epoch 189, loss: 0.07513348258419611\n",
            "Epoch 190, loss: 0.07464879614912043\n",
            "Epoch 191, loss: 0.07563424248246407\n",
            "Epoch 192, loss: 0.07599962441959639\n",
            "Epoch 193, loss: 0.07678049222681949\n",
            "Epoch 194, loss: 0.07506023609377653\n",
            "Epoch 195, loss: 0.07667276237370561\n",
            "Epoch 196, loss: 0.07601801260783903\n",
            "Epoch 197, loss: 0.07533742826473847\n",
            "Epoch 198, loss: 0.0763374782517929\n",
            "Epoch 199, loss: 0.07477344828527002\n"
          ]
        }
      ],
      "source": [
        "num_examples = len(train_dataloader.dataset)\n",
        "epochs = 200\n",
        "num_batches = math.ceil(num_examples / batch_size)\n",
        "losses = []\n",
        "\n",
        "for epoch in range(epochs):\n",
        "    cumulative_loss = 0\n",
        "    # inner loop\n",
        "    for i, (data, label) in enumerate(train_dataloader):\n",
        "        data = data.to(device)\n",
        "        label = label.to(device)\n",
        "\n",
        "        yhat = net(data) # net.forward(data) don't do this\n",
        "        loss = loss_fn(yhat, label) # Call the loss function you defined earlier\n",
        "        \n",
        "        # Call the zero_grad method of the optimizer you defined\n",
        "        optimizer.zero_grad()\n",
        "\n",
        "        # Call the backward method of the loss tensor you just calculated\n",
        "        loss.backward()\n",
        "\n",
        "        # Call the step method of the optimizer \n",
        "        optimizer.step()\n",
        "\n",
        "        cumulative_loss += loss.item()\n",
        "    print(\"Epoch %s, loss: %s\" % (epoch, cumulative_loss / num_examples))\n",
        "    losses.append(cumulative_loss / num_batches)\n"
      ]
    },
    {
      "cell_type": "markdown",
      "metadata": {
        "id": "vZ3Xc6Fv2Q5V"
      },
      "source": [
        "Now we can plot the average loss of the model for each epoch it trained."
      ]
    },
    {
      "cell_type": "code",
      "execution_count": 40,
      "metadata": {
        "colab": {
          "base_uri": "https://localhost:8080/",
          "height": 392
        },
        "id": "uABlACFUMCHE",
        "outputId": "6bac05a6-0bae-4695-f566-da86ba16652f"
      },
      "outputs": [
        {
          "data": {
            "image/png": "[encoded data removed]",
            "text/plain": [
              "<Figure size 800x600 with 1 Axes>"
            ]
          },
          "metadata": {},
          "output_type": "display_data"
        }
      ],
      "source": [
        "plt.figure(num=None, figsize=(8, 6))\n",
        "plt.plot(losses)\n",
        "\n",
        "plt.grid(True, which=\"both\")\n",
        "plt.xlabel('epoch', fontsize=14)\n",
        "plt.ylabel('average loss', fontsize=14)\n",
        "plt.show()\n"
      ]
    },
    {
      "cell_type": "code",
      "execution_count": 41,
      "metadata": {},
      "outputs": [
        {
          "name": "stdout",
          "output_type": "stream",
          "text": [
            "Log loss: 7.853086492600944\n",
            "Accuracy score: 0.7821229050279329\n",
            "              precision    recall  f1-score   support\n",
            "\n",
            "           0       0.78      0.87      0.82       105\n",
            "           1       0.78      0.66      0.72        74\n",
            "\n",
            "    accuracy                           0.78       179\n",
            "   macro avg       0.78      0.76      0.77       179\n",
            "weighted avg       0.78      0.78      0.78       179\n",
            "\n"
          ]
        }
      ],
      "source": [
        "predictions = (\n",
        "    net(torch.tensor(X_test, dtype=torch.float32).to(device)).cpu().detach().numpy()\n",
        ")\n",
        "predictions = (predictions > 0.5).astype(int)\n",
        "\n",
        "log_loss_ = log_loss(y_test, predictions)\n",
        "acc_score = accuracy_score(y_test, predictions)\n",
        "\n",
        "print(f\"Log loss: {log_loss_}\")\n",
        "print(f\"Accuracy score: {acc_score}\")\n",
        "print(classification_report(y_test, predictions))"
      ]
    }
  ],
  "metadata": {
    "colab": {
      "include_colab_link": true,
      "provenance": []
    },
    "kernelspec": {
      "display_name": "Python 3",
      "name": "python3"
    },
    "language_info": {
      "codemirror_mode": {
        "name": "ipython",
        "version": 3
      },
      "file_extension": ".py",
      "mimetype": "text/x-python",
      "name": "python",
      "nbconvert_exporter": "python",
      "pygments_lexer": "ipython3",
      "version": "3.10.12"
    }
  },
  "nbformat": 4,
  "nbformat_minor": 0
}
