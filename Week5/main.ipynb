{
  "cells": [
    {
      "cell_type": "markdown",
      "metadata": {
        "colab_type": "text",
        "id": "view-in-github"
      },
      "source": [
        "<a href=\"https://colab.research.google.com/github/Hamada-Gado/IEEE-GUC-Deep-Learning-Tasks/blob/main/IEEE_Session_2_Task.ipynb\" target=\"_parent\"><img src=\"https://colab.research.google.com/assets/colab-badge.svg\" alt=\"Open In Colab\"/></a>"
      ]
    },
    {
      "cell_type": "markdown",
      "metadata": {
        "id": "QJAEpc9Dl1LM"
      },
      "source": [
        "In this notebook, we're going to use Pytorch to train a logistic regression model. \n",
        "\n",
        "This notebook won't be exploring the real power of deep neural networks we won't have any hidden layers so it's not \"deep\" and it can't represent nonlinear relationships in the data.\n",
        "\n",
        "The code, however, is very much similar to what deep neural network code looks like, that is, most of the code you use here you will be useful when writing code for a deep neural network. \n",
        "\n",
        "This notebook just helps get you familiar with the main steps of defining and training a neural network in Pytorch.\n",
        "\n",
        "We will compare it with the last week's model which was implemented using classical machine learning libraries (scikit-learn)."
      ]
    },
    {
      "cell_type": "markdown",
      "metadata": {
        "id": "wjcVBKkeM1gg"
      },
      "source": [
        "We'll start by importing PyTorch and its related packages "
      ]
    },
    {
      "cell_type": "code",
      "execution_count": 1,
      "metadata": {
        "colab": {
          "base_uri": "https://localhost:8080/",
          "height": 35
        },
        "id": "tjwdORfGlgzH",
        "outputId": "2438aafc-02ce-41c7-d4e5-25f273f4d01b"
      },
      "outputs": [
        {
          "data": {
            "text/plain": [
              "'cuda'"
            ]
          },
          "execution_count": 1,
          "metadata": {},
          "output_type": "execute_result"
        }
      ],
      "source": [
        "import math\n",
        "\n",
        "import torch\n",
        "import torch.nn as nn \n",
        "import torch.optim as optim\n",
        "from torch.utils.data import Dataset, DataLoader\n",
        "\n",
        "import pandas as pd\n",
        "import matplotlib.pyplot as plt\n",
        "\n",
        "from sklearn.impute import SimpleImputer\n",
        "from sklearn.compose import ColumnTransformer\n",
        "from sklearn.model_selection import train_test_split\n",
        "from sklearn.pipeline import make_pipeline, Pipeline\n",
        "from sklearn.preprocessing import OneHotEncoder, MinMaxScaler\n",
        "from sklearn.metrics import log_loss, accuracy_score, classification_report\n",
        "\n",
        "# set default device based on CUDA's availability\n",
        "device = 'cuda' if torch.cuda.is_available() else 'cpu'\n",
        "device\n"
      ]
    },
    {
      "cell_type": "markdown",
      "metadata": {
        "id": "ypdgiwpNvk8V"
      },
      "source": [
        "we will now load the data, but skip looking at it as we did in the pervious week."
      ]
    },
    {
      "cell_type": "code",
      "execution_count": 2,
      "metadata": {},
      "outputs": [],
      "source": [
        "cat_columns: list[str] = [\"Gender\", \"Embarked\"]\n",
        "num_columns: list[str] = [\"Pclass\", \"Age\", \"SibSp\", \"Parch\"]\n",
        "\n",
        "# Create a pipeline for the categorical columns using OneHotEncoder\n",
        "cat_pipeline: Pipeline = make_pipeline(\n",
        "    SimpleImputer(strategy=\"most_frequent\"),\n",
        "    OneHotEncoder(handle_unknown=\"ignore\"))\n",
        "\n",
        "\n",
        "# Create a pipeline for the numerical columns using MinMaxScaler\n",
        "num_pipeline: Pipeline = make_pipeline(\n",
        "    SimpleImputer(strategy=\"median\"),\n",
        "    MinMaxScaler())\n",
        "\n",
        "preprocessing = ColumnTransformer([\n",
        "    (\"num\", num_pipeline, num_columns),\n",
        "    (\"cat\", cat_pipeline, cat_columns),\n",
        "])"
      ]
    },
    {
      "cell_type": "code",
      "execution_count": 3,
      "metadata": {},
      "outputs": [],
      "source": [
        "train_data = pd.read_csv(\"./train.csv\")\n",
        "train_data = train_data.drop([\"PassengerId\", \"Name\", \"Ticket\", \"Cabin\"], axis= 1)\n",
        "X = train_data.drop('Survived', axis= 1)\n",
        "\n",
        "X_train, X_test, y_train, y_test = train_test_split(X, train_data['Survived'], test_size=0.2, random_state=42)\n",
        "\n",
        "X_train = preprocessing.fit_transform(X_train)\n",
        "X_test = preprocessing.transform(X_test)"
      ]
    },
    {
      "cell_type": "markdown",
      "metadata": {},
      "source": [
        "now we will transform the data into a tensor, and then we will split it into training and testing sets."
      ]
    },
    {
      "cell_type": "code",
      "execution_count": 4,
      "metadata": {},
      "outputs": [],
      "source": [
        "X_train = torch.tensor(X_train, dtype=torch.float32).to(device)\n",
        "y_train = torch.tensor(y_train.values, dtype=torch.float32).to(device)"
      ]
    },
    {
      "cell_type": "markdown",
      "metadata": {
        "id": "b7CK9iPFlv60"
      },
      "source": [
        "Next we'll define a very simple class to load the data, it loads the data, then defines the `__len__` method to get its size and the `__getitem__` method to get a single example and its ground truth"
      ]
    },
    {
      "cell_type": "code",
      "execution_count": 5,
      "metadata": {
        "id": "wmgfmh8uL00K"
      },
      "outputs": [],
      "source": [
        "class LogisticDataset(Dataset):\n",
        "    def __init__(self, X, y):\n",
        "        assert X.size()[0] == y.size()[0]\n",
        "        self.X = X\n",
        "        self.y = y\n",
        "    \n",
        "    def __len__(self):\n",
        "        return self.X.size()[0]\n",
        "    \n",
        "    def __getitem__(self, idx):\n",
        "        return [self.X[idx], self.y[idx]]\n"
      ]
    },
    {
      "cell_type": "markdown",
      "metadata": {
        "id": "57zJc2_QyfK_"
      },
      "source": [
        "We'll use PyTorch's `DataLoader` class to generate the dataloader for our training data. We give it as input an instance of our dataset and specify the `batch_size` and set `shuffle=True` so that it provides batches in random order. "
      ]
    },
    {
      "cell_type": "code",
      "execution_count": 6,
      "metadata": {
        "id": "YDy_UQnNL3EV"
      },
      "outputs": [],
      "source": [
        "batch_size = 4\n",
        "train_dataloader = DataLoader(LogisticDataset(X_train, y_train), batch_size=batch_size, shuffle=True)\n"
      ]
    },
    {
      "cell_type": "markdown",
      "metadata": {
        "id": "-0nQ2OSHy5c1"
      },
      "source": [
        "We can now loop through the dataloader to get batches of data at each iteration. "
      ]
    },
    {
      "cell_type": "code",
      "execution_count": 7,
      "metadata": {
        "colab": {
          "base_uri": "https://localhost:8080/"
        },
        "id": "P8O6YtB0L4fM",
        "outputId": "0cc40d47-4468-47a0-8c88-626202bdfb5d"
      },
      "outputs": [
        {
          "name": "stdout",
          "output_type": "stream",
          "text": [
            "tensor([[0.0000, 0.3968, 0.0000, 0.0000, 0.0000, 1.0000, 1.0000, 0.0000, 0.0000],\n",
            "        [1.0000, 0.0450, 0.1250, 0.1667, 0.0000, 1.0000, 0.0000, 0.0000, 1.0000],\n",
            "        [1.0000, 0.3466, 0.0000, 0.0000, 0.0000, 1.0000, 0.0000, 0.0000, 1.0000],\n",
            "        [0.5000, 0.3466, 0.1250, 0.0000, 1.0000, 0.0000, 1.0000, 0.0000, 0.0000]],\n",
            "       device='cuda:0')\n",
            "tensor([1., 1., 0., 1.], device='cuda:0')\n"
          ]
        }
      ],
      "source": [
        "for i, (data, label) in enumerate(train_dataloader):\n",
        "    print(data)\n",
        "    print(label)\n",
        "    break\n"
      ]
    },
    {
      "cell_type": "markdown",
      "metadata": {
        "id": "KjXUd5SbzHIF"
      },
      "source": [
        "Do note that each time we loop through the data, it will have different order. That's because we've set shuffle=True. This helps the model become more robust as it gets batches in a different order in each epoch (pass through the training data so it reduces overfitting."
      ]
    },
    {
      "cell_type": "code",
      "execution_count": 8,
      "metadata": {
        "colab": {
          "base_uri": "https://localhost:8080/"
        },
        "id": "D-gohynkL6Cc",
        "outputId": "04dde82d-19be-40f9-f9ad-efbcd5cee90d"
      },
      "outputs": [
        {
          "name": "stdout",
          "output_type": "stream",
          "text": [
            "tensor([[0.0000, 0.2586, 0.0000, 0.1667, 0.0000, 1.0000, 0.0000, 0.0000, 1.0000],\n",
            "        [0.5000, 0.5979, 0.0000, 0.0000, 0.0000, 1.0000, 0.0000, 0.0000, 1.0000],\n",
            "        [1.0000, 0.3340, 0.0000, 0.3333, 1.0000, 0.0000, 0.0000, 0.0000, 1.0000],\n",
            "        [0.5000, 0.3466, 0.0000, 0.0000, 1.0000, 0.0000, 0.0000, 1.0000, 0.0000]],\n",
            "       device='cuda:0')\n",
            "tensor([0., 0., 1., 1.], device='cuda:0')\n"
          ]
        }
      ],
      "source": [
        "for i, (data, label) in enumerate(train_dataloader):\n",
        "    print(data)\n",
        "    print(label)\n",
        "    break\n"
      ]
    },
    {
      "cell_type": "markdown",
      "metadata": {
        "id": "ICuWFKaPzng9"
      },
      "source": [
        "If we count how many iterations we go through in train_dataloader we find that it does 223 iterations. That's because we have a total of 891 examples and a `batch_size` of 4. Changing the batch size should affect the number of iterations, which are generally `number of examples / batch_size`"
      ]
    },
    {
      "cell_type": "code",
      "execution_count": 9,
      "metadata": {
        "colab": {
          "base_uri": "https://localhost:8080/"
        },
        "id": "FoC3d55vL75M",
        "outputId": "828be434-4d85-40ce-b6ae-ed32762c7cc0"
      },
      "outputs": [
        {
          "name": "stdout",
          "output_type": "stream",
          "text": [
            "178\n"
          ]
        }
      ],
      "source": [
        "counter = 0\n",
        "for i, (data, label) in enumerate(train_dataloader):\n",
        "    pass\n",
        "print(i + 1)\n"
      ]
    },
    {
      "cell_type": "markdown",
      "metadata": {
        "id": "ITiZ2_EI0BfV"
      },
      "source": [
        "**Defining the Logistic Regression model using Pytorch**"
      ]
    },
    {
      "cell_type": "code",
      "execution_count": 10,
      "metadata": {
        "colab": {
          "base_uri": "https://localhost:8080/"
        },
        "id": "eghnXrEKL9Oc",
        "outputId": "4e49f1e4-71fa-4e0f-9618-78db00dc43a6"
      },
      "outputs": [
        {
          "data": {
            "text/plain": [
              "LogisticRegression(\n",
              "  (fc1): Linear(in_features=9, out_features=256, bias=True)\n",
              "  (fc2): Linear(in_features=256, out_features=128, bias=True)\n",
              "  (fc3): Linear(in_features=128, out_features=64, bias=True)\n",
              "  (fc4): Linear(in_features=64, out_features=1, bias=True)\n",
              ")"
            ]
          },
          "execution_count": 10,
          "metadata": {},
          "output_type": "execute_result"
        }
      ],
      "source": [
        "class LogisticRegression(nn.Module):\n",
        "    def __init__(self, num_inputs=9, num_outputs=1, **kwargs):\n",
        "        super(LogisticRegression, self).__init__(**kwargs)\n",
        "        # The layer should have an input of shape 9 and an output of shape 1\n",
        "\n",
        "        # If we use only this layer, the model will be exactly like the previous week logistic regression model\n",
        "        # self.fc1 = nn.Linear(num_inputs, num_outputs, bias=True)\n",
        "\n",
        "        # This will be the code of a more complex model\n",
        "        self.fc1 = nn.Linear(num_inputs, 256, bias=True)\n",
        "        self.fc2 = nn.Linear(256, 128, bias=True)\n",
        "        self.fc3 = nn.Linear(128, 64, bias=True)\n",
        "        self.fc4 = nn.Linear(64, num_outputs, bias=True)\n",
        "\n",
        "    def forward(self, x):\n",
        "        x = self.fc1(x)\n",
        "\n",
        "        # This will be the code of a more complex model\n",
        "        x = torch.relu(x)\n",
        "        x = self.fc2(x)\n",
        "        x = torch.relu(x)\n",
        "        x = self.fc3(x)\n",
        "        x = torch.relu(x)\n",
        "        x = self.fc4(x)\n",
        "        ###############################################\n",
        "\n",
        "        x = torch.sigmoid(x)\n",
        "        x = x.squeeze(1) # remove the last dimension\n",
        "        return x\n",
        "\n",
        "\n",
        "net = LogisticRegression()\n",
        "net.to(device)"
      ]
    },
    {
      "cell_type": "markdown",
      "metadata": {
        "id": "04eG0Fel1CBn"
      },
      "source": [
        "**Use Binary Categorical Cross-Entropy loss**"
      ]
    },
    {
      "cell_type": "code",
      "execution_count": 11,
      "metadata": {
        "id": "SQuFy87QL-gs"
      },
      "outputs": [],
      "source": [
        "loss_fn = nn.BCELoss(reduction='mean')"
      ]
    },
    {
      "cell_type": "markdown",
      "metadata": {
        "id": "thAjLAkH1HU0"
      },
      "source": [
        "**Use Stochastic Gradient Descent for optimizing the model**"
      ]
    },
    {
      "cell_type": "code",
      "execution_count": 12,
      "metadata": {
        "id": "3S-pwRXSL_vk"
      },
      "outputs": [],
      "source": [
        "optimizer = optim.SGD(net.parameters(), lr= 1e-2, momentum= 0.9)"
      ]
    },
    {
      "cell_type": "markdown",
      "metadata": {
        "id": "jUePzAzU1Vo2"
      },
      "source": [
        "**Complete the training loop and train the model**"
      ]
    },
    {
      "cell_type": "code",
      "execution_count": 13,
      "metadata": {
        "colab": {
          "base_uri": "https://localhost:8080/"
        },
        "id": "tGjrvueiMArs",
        "outputId": "fdf0eb54-c29c-4617-c86a-13b707efe308"
      },
      "outputs": [
        {
          "name": "stdout",
          "output_type": "stream",
          "text": [
            "Epoch 0, loss: 0.11672872766501173\n",
            "Epoch 1, loss: 0.09541858739389983\n",
            "Epoch 2, loss: 0.09298243741980439\n",
            "Epoch 3, loss: 0.09029580070715561\n",
            "Epoch 4, loss: 0.09182222580117007\n",
            "Epoch 5, loss: 0.09005528883266395\n",
            "Epoch 6, loss: 0.08848419870165261\n",
            "Epoch 7, loss: 0.08889503803785669\n",
            "Epoch 8, loss: 0.08924372266773155\n",
            "Epoch 9, loss: 0.08932141966356841\n",
            "Epoch 10, loss: 0.08909844472485895\n",
            "Epoch 11, loss: 0.08860115024577889\n",
            "Epoch 12, loss: 0.08926226511413668\n",
            "Epoch 13, loss: 0.08776998545819795\n",
            "Epoch 14, loss: 0.08706712225654845\n",
            "Epoch 15, loss: 0.08594382821041861\n",
            "Epoch 16, loss: 0.08776629334848737\n",
            "Epoch 17, loss: 0.08525309366342328\n",
            "Epoch 18, loss: 0.08560076037340293\n",
            "Epoch 19, loss: 0.08496314804378048\n",
            "Epoch 20, loss: 0.08402814089365546\n",
            "Epoch 21, loss: 0.08354135108515871\n",
            "Epoch 22, loss: 0.0844240513129534\n",
            "Epoch 23, loss: 0.08463473656704998\n",
            "Epoch 24, loss: 0.0838024882405294\n",
            "Epoch 25, loss: 0.08305692242084262\n",
            "Epoch 26, loss: 0.0848029386482121\n",
            "Epoch 27, loss: 0.08398306962650365\n",
            "Epoch 28, loss: 0.08252311465314743\n",
            "Epoch 29, loss: 0.08212564082442042\n",
            "Epoch 30, loss: 0.08050294352985927\n",
            "Epoch 31, loss: 0.08324365122149689\n",
            "Epoch 32, loss: 0.08158504154729655\n",
            "Epoch 33, loss: 0.07983585637309468\n",
            "Epoch 34, loss: 0.07988346547858348\n",
            "Epoch 35, loss: 0.07907471706302613\n",
            "Epoch 36, loss: 0.07994941608639544\n",
            "Epoch 37, loss: 0.082569828029099\n",
            "Epoch 38, loss: 0.0791375112503466\n",
            "Epoch 39, loss: 0.07828832392222285\n",
            "Epoch 40, loss: 0.0778293188297588\n",
            "Epoch 41, loss: 0.07830758495663954\n",
            "Epoch 42, loss: 0.07855577421124803\n",
            "Epoch 43, loss: 0.08142298286912417\n",
            "Epoch 44, loss: 0.07845293533153137\n",
            "Epoch 45, loss: 0.07894416213219549\n",
            "Epoch 46, loss: 0.07782694667067659\n",
            "Epoch 47, loss: 0.07694863758387523\n",
            "Epoch 48, loss: 0.07844924506147033\n",
            "Epoch 49, loss: 0.07713004044444205\n",
            "Epoch 50, loss: 0.079131180338988\n",
            "Epoch 51, loss: 0.07770143839813912\n",
            "Epoch 52, loss: 0.0760690131978321\n",
            "Epoch 53, loss: 0.07659559887567353\n",
            "Epoch 54, loss: 0.07708800774732423\n",
            "Epoch 55, loss: 0.07801680617644864\n",
            "Epoch 56, loss: 0.07810439531483367\n",
            "Epoch 57, loss: 0.07886489116566885\n",
            "Epoch 58, loss: 0.07660790082949447\n",
            "Epoch 59, loss: 0.07705562037032193\n",
            "Epoch 60, loss: 0.075419949386457\n",
            "Epoch 61, loss: 0.07621683237821232\n",
            "Epoch 62, loss: 0.07525710766146212\n",
            "Epoch 63, loss: 0.0771962605650912\n",
            "Epoch 64, loss: 0.07856722520591167\n",
            "Epoch 65, loss: 0.08136040942302322\n",
            "Epoch 66, loss: 0.07825835680486645\n",
            "Epoch 67, loss: 0.07571552105574095\n",
            "Epoch 68, loss: 0.07639437894243852\n",
            "Epoch 69, loss: 0.07722155418869957\n",
            "Epoch 70, loss: 0.07624152812408545\n",
            "Epoch 71, loss: 0.07719720975317136\n",
            "Epoch 72, loss: 0.07545101424777415\n",
            "Epoch 73, loss: 0.07611371494838017\n",
            "Epoch 74, loss: 0.07539925815205181\n",
            "Epoch 75, loss: 0.07684720011781294\n",
            "Epoch 76, loss: 0.07723567456709415\n",
            "Epoch 77, loss: 0.07515476674978715\n",
            "Epoch 78, loss: 0.0772892210118297\n",
            "Epoch 79, loss: 0.0744900555798301\n",
            "Epoch 80, loss: 0.07674218247635196\n",
            "Epoch 81, loss: 0.07626042535108347\n",
            "Epoch 82, loss: 0.07637180460305461\n",
            "Epoch 83, loss: 0.07710474139595808\n",
            "Epoch 84, loss: 0.07407045369397108\n",
            "Epoch 85, loss: 0.07589533744540847\n",
            "Epoch 86, loss: 0.07497820138145242\n",
            "Epoch 87, loss: 0.07464136301793835\n",
            "Epoch 88, loss: 0.07580633432835374\n",
            "Epoch 89, loss: 0.07708181955513997\n",
            "Epoch 90, loss: 0.07569633746638844\n",
            "Epoch 91, loss: 0.0752677307929321\n",
            "Epoch 92, loss: 0.07448472184840878\n",
            "Epoch 93, loss: 0.07482004507656986\n",
            "Epoch 94, loss: 0.0758843285613824\n",
            "Epoch 95, loss: 0.07432869705554479\n",
            "Epoch 96, loss: 0.07406935030563111\n",
            "Epoch 97, loss: 0.0739255680323199\n",
            "Epoch 98, loss: 0.07410996732344866\n",
            "Epoch 99, loss: 0.0737701729337207\n",
            "Epoch 100, loss: 0.07371574905768923\n",
            "Epoch 101, loss: 0.07408560789059576\n",
            "Epoch 102, loss: 0.07402881261015648\n",
            "Epoch 103, loss: 0.07370092014664018\n",
            "Epoch 104, loss: 0.07395313748740721\n",
            "Epoch 105, loss: 0.07332864050010238\n",
            "Epoch 106, loss: 0.07350647207830356\n",
            "Epoch 107, loss: 0.07468867337897704\n",
            "Epoch 108, loss: 0.07318626594647146\n",
            "Epoch 109, loss: 0.07429141592857345\n",
            "Epoch 110, loss: 0.0745271612502275\n",
            "Epoch 111, loss: 0.07353096288512853\n",
            "Epoch 112, loss: 0.07472562927890707\n",
            "Epoch 113, loss: 0.07379083015969573\n",
            "Epoch 114, loss: 0.07502857698117175\n",
            "Epoch 115, loss: 0.0773867528705819\n",
            "Epoch 116, loss: 0.07459613946334413\n",
            "Epoch 117, loss: 0.073610492391401\n",
            "Epoch 118, loss: 0.07371304444466978\n",
            "Epoch 119, loss: 0.07414848361411011\n",
            "Epoch 120, loss: 0.07479623708075413\n",
            "Epoch 121, loss: 0.07331593787061379\n",
            "Epoch 122, loss: 0.07338593979225014\n",
            "Epoch 123, loss: 0.07280261271479556\n",
            "Epoch 124, loss: 0.07261734721736876\n",
            "Epoch 125, loss: 0.07335907864195162\n",
            "Epoch 126, loss: 0.0738896941525734\n",
            "Epoch 127, loss: 0.07269947653308126\n",
            "Epoch 128, loss: 0.07366805748572922\n",
            "Epoch 129, loss: 0.07393539391717258\n",
            "Epoch 130, loss: 0.07252462602959471\n",
            "Epoch 131, loss: 0.0763460497939426\n",
            "Epoch 132, loss: 0.0722934510433413\n",
            "Epoch 133, loss: 0.0720814497855008\n",
            "Epoch 134, loss: 0.07278210195419028\n",
            "Epoch 135, loss: 0.07233168970371202\n",
            "Epoch 136, loss: 0.07181248621958675\n",
            "Epoch 137, loss: 0.07263154529796037\n",
            "Epoch 138, loss: 0.07295391069125179\n",
            "Epoch 139, loss: 0.07177809787499713\n",
            "Epoch 140, loss: 0.07146026314509035\n",
            "Epoch 141, loss: 0.07279461642098012\n",
            "Epoch 142, loss: 0.07117178099382539\n",
            "Epoch 143, loss: 0.07395879226066715\n",
            "Epoch 144, loss: 0.07295856419344475\n",
            "Epoch 145, loss: 0.07302719970703059\n",
            "Epoch 146, loss: 0.07326314902909342\n",
            "Epoch 147, loss: 0.07235191394935553\n",
            "Epoch 148, loss: 0.07179460646929564\n",
            "Epoch 149, loss: 0.07271446679184666\n",
            "Epoch 150, loss: 0.07191586471763758\n",
            "Epoch 151, loss: 0.07186325765335065\n",
            "Epoch 152, loss: 0.07262779291882258\n",
            "Epoch 153, loss: 0.0732559808786001\n",
            "Epoch 154, loss: 0.07134542819718788\n",
            "Epoch 155, loss: 0.07469120019823146\n",
            "Epoch 156, loss: 0.07221355798573774\n",
            "Epoch 157, loss: 0.07137687429242195\n",
            "Epoch 158, loss: 0.0713467555978742\n",
            "Epoch 159, loss: 0.07091876574270385\n",
            "Epoch 160, loss: 0.0737070026864976\n",
            "Epoch 161, loss: 0.07212917362031444\n",
            "Epoch 162, loss: 0.07315107695465671\n",
            "Epoch 163, loss: 0.07110912105911041\n",
            "Epoch 164, loss: 0.07215513664430508\n",
            "Epoch 165, loss: 0.07189371913052703\n",
            "Epoch 166, loss: 0.07122061765877118\n",
            "Epoch 167, loss: 0.07086747520165278\n",
            "Epoch 168, loss: 0.07030237696889273\n",
            "Epoch 169, loss: 0.07281579472350352\n",
            "Epoch 170, loss: 0.0713181626365241\n",
            "Epoch 171, loss: 0.07175606173200806\n",
            "Epoch 172, loss: 0.0696309196096913\n",
            "Epoch 173, loss: 0.07236586593292177\n",
            "Epoch 174, loss: 0.07087558194133636\n",
            "Epoch 175, loss: 0.07023300581081748\n",
            "Epoch 176, loss: 0.07058919097300029\n",
            "Epoch 177, loss: 0.07046917372296421\n",
            "Epoch 178, loss: 0.07054167626139224\n",
            "Epoch 179, loss: 0.0699661431225763\n",
            "Epoch 180, loss: 0.07068233854449893\n",
            "Epoch 181, loss: 0.07206861518206353\n",
            "Epoch 182, loss: 0.070943534942856\n",
            "Epoch 183, loss: 0.07092167766959177\n",
            "Epoch 184, loss: 0.07107846711800923\n",
            "Epoch 185, loss: 0.07038044340189392\n",
            "Epoch 186, loss: 0.06995897819146965\n",
            "Epoch 187, loss: 0.07160276554182055\n",
            "Epoch 188, loss: 0.07331979569302732\n",
            "Epoch 189, loss: 0.07250521648737919\n",
            "Epoch 190, loss: 0.07113795541958542\n",
            "Epoch 191, loss: 0.06925540309980528\n",
            "Epoch 192, loss: 0.07029678848782171\n",
            "Epoch 193, loss: 0.0703512223251373\n",
            "Epoch 194, loss: 0.0691374901590156\n",
            "Epoch 195, loss: 0.07242403356055285\n",
            "Epoch 196, loss: 0.0713849042162851\n",
            "Epoch 197, loss: 0.07476129925963453\n",
            "Epoch 198, loss: 0.06961999760834055\n",
            "Epoch 199, loss: 0.07036040834225421\n"
          ]
        }
      ],
      "source": [
        "num_examples = len(train_data)\n",
        "epochs = 200\n",
        "num_batches = math.ceil(num_examples / batch_size)\n",
        "losses = []\n",
        "\n",
        "for epoch in range(epochs):\n",
        "    cumulative_loss = 0\n",
        "    # inner loop\n",
        "    for i, (data, label) in enumerate(train_dataloader):\n",
        "        data = data.to(device)\n",
        "        label = label.to(device)\n",
        "\n",
        "        \n",
        "        yhat = net(data)\n",
        "        loss = loss_fn(yhat, label) # Call the loss function you defined earlier\n",
        "        \n",
        "        # Call the zero_grad method of the optimizer you defined\n",
        "        optimizer.zero_grad()\n",
        "\n",
        "        # Call the backward method of the loss tensor you just calculated\n",
        "        loss.backward()\n",
        "\n",
        "        # Call the step method of the optimizer \n",
        "        optimizer.step()\n",
        "\n",
        "        cumulative_loss += loss.item()\n",
        "    print(\"Epoch %s, loss: %s\" % (epoch, cumulative_loss / num_examples))\n",
        "    losses.append(cumulative_loss / num_batches)\n"
      ]
    },
    {
      "cell_type": "markdown",
      "metadata": {
        "id": "vZ3Xc6Fv2Q5V"
      },
      "source": [
        "Now we can plot the average loss of the model for each epoch it trained."
      ]
    },
    {
      "cell_type": "code",
      "execution_count": 14,
      "metadata": {
        "colab": {
          "base_uri": "https://localhost:8080/",
          "height": 392
        },
        "id": "uABlACFUMCHE",
        "outputId": "6bac05a6-0bae-4695-f566-da86ba16652f"
      },
      "outputs": [
        {
          "data": {
            "image/png": "[encoded data removed]",
            "text/plain": [
              "<Figure size 800x600 with 1 Axes>"
            ]
          },
          "metadata": {},
          "output_type": "display_data"
        }
      ],
      "source": [
        "plt.figure(num=None, figsize=(8, 6))\n",
        "plt.plot(losses)\n",
        "\n",
        "plt.grid(True, which=\"both\")\n",
        "plt.xlabel('epoch', fontsize=14)\n",
        "plt.ylabel('average loss', fontsize=14)\n",
        "plt.show()\n"
      ]
    },
    {
      "cell_type": "code",
      "execution_count": 15,
      "metadata": {},
      "outputs": [
        {
          "name": "stdout",
          "output_type": "stream",
          "text": [
            "Log loss: 6.443558147775134\n",
            "Accuracy score: 0.8212290502793296\n",
            "              precision    recall  f1-score   support\n",
            "\n",
            "           0       0.80      0.92      0.86       105\n",
            "           1       0.86      0.68      0.76        74\n",
            "\n",
            "    accuracy                           0.82       179\n",
            "   macro avg       0.83      0.80      0.81       179\n",
            "weighted avg       0.83      0.82      0.82       179\n",
            "\n"
          ]
        }
      ],
      "source": [
        "predictions = (\n",
        "    net(torch.tensor(X_test, dtype=torch.float32).to(device)).cpu().detach().numpy()\n",
        ")\n",
        "predictions = (predictions > 0.5).astype(int)\n",
        "\n",
        "log_loss_ = log_loss(y_test, predictions)\n",
        "acc_score = accuracy_score(y_test, predictions)\n",
        "\n",
        "print(f\"Log loss: {log_loss_}\")\n",
        "print(f\"Accuracy score: {acc_score}\")\n",
        "print(classification_report(y_test, predictions))"
      ]
    }
  ],
  "metadata": {
    "colab": {
      "include_colab_link": true,
      "provenance": []
    },
    "kernelspec": {
      "display_name": "Python 3",
      "name": "python3"
    },
    "language_info": {
      "codemirror_mode": {
        "name": "ipython",
        "version": 3
      },
      "file_extension": ".py",
      "mimetype": "text/x-python",
      "name": "python",
      "nbconvert_exporter": "python",
      "pygments_lexer": "ipython3",
      "version": "3.10.12"
    }
  },
  "nbformat": 4,
  "nbformat_minor": 0
}
